{
 "cells": [
  {
   "cell_type": "code",
   "execution_count": 15,
   "id": "d0cef38b",
   "metadata": {},
   "outputs": [],
   "source": [
    "import os"
   ]
  },
  {
   "cell_type": "code",
   "execution_count": 20,
   "id": "adaecb25",
   "metadata": {},
   "outputs": [],
   "source": [
    "def count_files_and_space(folder):\n",
    "    file_count = 0\n",
    "    total_size = 0\n",
    "    \n",
    "    for item in os.listdir(folder):\n",
    "        item_path = os.path.join(folder, item)  \n",
    "        \n",
    "        if os.path.isdir(item_path):\n",
    "            subfolder_count, subfolder_size = count_files_and_space(item_path)\n",
    "            \n",
    "            file_count += subfolder_count\n",
    "            total_size += subfolder_size\n",
    "            \n",
    "        else:\n",
    "            file_count += 1\n",
    "            total_size += os.path.getsize(item_path)\n",
    "            \n",
    "    return file_count, total_size\n"
   ]
  },
  {
   "cell_type": "code",
   "execution_count": 21,
   "id": "efa6ff07",
   "metadata": {},
   "outputs": [
    {
     "name": "stdout",
     "output_type": "stream",
     "text": [
      "Number of files: 14604\n",
      "Total size: 193250928 bytes\n"
     ]
    }
   ],
   "source": [
    "# Folder to count files and space in\n",
    "my_folder = r'/Users/apple/PycharmProjects'\n",
    "\n",
    "# Call the function \n",
    "file_count, total_size = count_files_and_space(my_folder)\n",
    "\n",
    "# Print the result\n",
    "print(f'Number of files: {file_count}')\n",
    "print(f'Total size: {total_size} bytes')\n"
   ]
  },
  {
   "cell_type": "code",
   "execution_count": null,
   "id": "68656460",
   "metadata": {},
   "outputs": [],
   "source": []
  }
 ],
 "metadata": {
  "kernelspec": {
   "display_name": "Python 3 (ipykernel)",
   "language": "python",
   "name": "python3"
  },
  "language_info": {
   "codemirror_mode": {
    "name": "ipython",
    "version": 3
   },
   "file_extension": ".py",
   "mimetype": "text/x-python",
   "name": "python",
   "nbconvert_exporter": "python",
   "pygments_lexer": "ipython3",
   "version": "3.9.13"
  }
 },
 "nbformat": 4,
 "nbformat_minor": 5
}
